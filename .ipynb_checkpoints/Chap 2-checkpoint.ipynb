{
 "cells": [
  {
   "cell_type": "code",
   "execution_count": 4,
   "id": "dfe399de-fd1b-4b89-baa6-4fbe373d5cbf",
   "metadata": {},
   "outputs": [],
   "source": [
    "from PIL import Image\n",
    "from skimage.io import imread, imshow, show\n",
    "import scipy.fftpack as fp\n",
    "from scipy import ndimage, misc, signal\n",
    "from skimage import data, img_as_float\n",
    "from skimage.color import rgb2gray\n",
    "from skimage.transform import rescale\n",
    "import matplotlib.pylab as pylab\n",
    "import numpy as np\n",
    "import numpy.fft\n",
    "import timeit"
   ]
  },
  {
   "cell_type": "code",
   "execution_count": null,
   "id": "761d4198-99cb-4435-83b0-fbf23cd7eb8d",
   "metadata": {},
   "outputs": [],
   "source": []
  }
 ],
 "metadata": {
  "kernelspec": {
   "display_name": "Python 3 (ipykernel)",
   "language": "python",
   "name": "python3"
  },
  "language_info": {
   "codemirror_mode": {
    "name": "ipython",
    "version": 3
   },
   "file_extension": ".py",
   "mimetype": "text/x-python",
   "name": "python",
   "nbconvert_exporter": "python",
   "pygments_lexer": "ipython3",
   "version": "3.12.7"
  }
 },
 "nbformat": 4,
 "nbformat_minor": 5
}
